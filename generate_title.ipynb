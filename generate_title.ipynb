{
 "cells": [
  {
   "cell_type": "markdown",
   "id": "8f39ba4b",
   "metadata": {},
   "source": [
    "# T5 inference用コード\n",
    "\n",
    "- [学習コード](https://colab.research.google.com/drive/1zDHDNQiEmkuPox_iyzS3XN3mAoc5hU2u?usp=sharing)\n",
    "\n",
    "- setup.py\n",
    "  - モデルのパラメータやディレクトリパスの設定\n",
    "- calcSim.py\n",
    "  - generate_summary\n",
    "    - 記事の本文からタイトル(要約文)を生成\n",
    "  - calc_score\n",
    "    - rougeスコアの計算\n",
    "  - make_output\n",
    "    -  上記2関数をまとめたもの"
   ]
  },
  {
   "cell_type": "code",
   "execution_count": 1,
   "id": "26462dd9",
   "metadata": {},
   "outputs": [
    {
     "name": "stderr",
     "output_type": "stream",
     "text": [
      "/Users/haru/opt/anaconda3/envs/t5/lib/python3.10/site-packages/tqdm/auto.py:22: TqdmWarning: IProgress not found. Please update jupyter and ipywidgets. See https://ipywidgets.readthedocs.io/en/stable/user_install.html\n",
      "  from .autonotebook import tqdm as notebook_tqdm\n"
     ]
    }
   ],
   "source": [
    "from setup import *\n",
    "from calcSim import *\n",
    "\n",
    "import torch\n",
    "from torch.utils.data import Dataset, DataLoader\n",
    "from transformers import T5ForConditionalGeneration, T5Tokenizer\n",
    "\n",
    "\n",
    "import warnings\n",
    "warnings.simplefilter('ignore')"
   ]
  },
  {
   "cell_type": "markdown",
   "id": "31c9c675",
   "metadata": {},
   "source": [
    "## modelの読み込み、tokenizerの読み込み,スコア計算用オブジェクトの作成"
   ]
  },
  {
   "cell_type": "code",
   "execution_count": 2,
   "id": "be4e5bf8",
   "metadata": {},
   "outputs": [],
   "source": [
    "tokenizer = T5Tokenizer.from_pretrained(MODEL_DIR, is_fast=True,model_max_length=args.max_input_length)\n",
    "trained_model = T5ForConditionalGeneration.from_pretrained(MODEL_DIR)"
   ]
  },
  {
   "cell_type": "markdown",
   "id": "a51472cb",
   "metadata": {},
   "source": [
    "## テスト記事\n",
    "\n",
    "- https://news.yahoo.co.jp/articles/fc57a5ba61aadead0b4f516ce442308469f6b16d\n",
    "    - score = 0.4174297833240352\n",
    "```python\n",
    "target = \"NYダウ、反発\"\n",
    "input = \"【ニューヨーク時事】29日のニューヨーク株式相場は、優良株で構成するダウ工業株30種平均が反発。米連邦準備制度理事会（FRB）の金融政策に関心が集まる中、売り買いが交錯し、午前9時35分現在は前日終値比10．96ドル安の3万0936．03ドル。ハイテク株中心のナスダック総合指数は86．55ポイント安の1万1094．99。\"\n",
    "```\n",
    "- https://news.yahoo.co.jp/articles/fa0d49360ff34408e9ace0af33f73ebdcefe08ea\n",
    "    - score = 0.4919361714500556\n",
    "```python\n",
    "target = \"＜独自＞中国人留学生のバイト給与の免税撤廃へ\"\n",
    "input = \"日本でアルバイトをする中国人留学生に適用されている給与の免税措置の撤廃に向け、政府が日中租税条約の改正を検討していることが２５日、分かった。給与の免税措置は留学生の交流促進を図る目的で導入されたが、滞在国で課税を受けるという近年の国際標準に合わせる。複数の政府関係者が明らかにした。日中租税条約は１９８３（昭和５８）年に締結された。同条約の２１条では、教育を受けるために日本に滞在する中国人留学生が生計や教育のために得る給与を免税扱いにしている。雇用先の企業を通じて必要な届け出をすれば、生活費や学費に充てるためのアルバイト代は源泉徴収の対象とならず、課税されない。免税措置は、中国に滞在する日本人留学生にも同様に適用される。ただ、日本で働く中国人留学生に比べ、中国でアルバイトを希望する日本人留学生は限られる。また、日本人留学生が中国で就労許可を受けるハードルも高いとされ、中国人留学生が免税を受けるケースの方が圧倒的に多いとみられる。１３日の参院決算委員会では、自民党が「アンバランスが生じている」と指摘した。近年では留学生が受け取るアルバイト給与について、居住する滞在国で課税を受けることが国際標準となっている。このため政府は米国やシンガポール、マレーシアなどとの租税条約を改正する際に、免税規定を削除してきた。一方、中国以外でも韓国やフィリピン、インドネシアなど、免税規定が残る条約もある。政府関係者は「個別の国との接触状況は答えられない」としながらも「関係省庁で連携し、積極的に既存の条約の改正に取り組みたい」と語った。\"\n",
    "```"
   ]
  },
  {
   "cell_type": "code",
   "execution_count": 3,
   "id": "74e04977",
   "metadata": {},
   "outputs": [],
   "source": [
    "target = \"＜独自＞中国人留学生のバイト給与の免税撤廃へ\"\n",
    "input = \"日本でアルバイトをする中国人留学生に適用されている給与の免税措置の撤廃に向け、政府が日中租税条約の改正を検討していることが２５日、分かった。給与の免税措置は留学生の交流促進を図る目的で導入されたが、滞在国で課税を受けるという近年の国際標準に合わせる。複数の政府関係者が明らかにした。日中租税条約は１９８３（昭和５８）年に締結された。同条約の２１条では、教育を受けるために日本に滞在する中国人留学生が生計や教育のために得る給与を免税扱いにしている。雇用先の企業を通じて必要な届け出をすれば、生活費や学費に充てるためのアルバイト代は源泉徴収の対象とならず、課税されない。免税措置は、中国に滞在する日本人留学生にも同様に適用される。ただ、日本で働く中国人留学生に比べ、中国でアルバイトを希望する日本人留学生は限られる。また、日本人留学生が中国で就労許可を受けるハードルも高いとされ、中国人留学生が免税を受けるケースの方が圧倒的に多いとみられる。１３日の参院決算委員会では、自民党が「アンバランスが生じている」と指摘した。近年では留学生が受け取るアルバイト給与について、居住する滞在国で課税を受けることが国際標準となっている。このため政府は米国やシンガポール、マレーシアなどとの租税条約を改正する際に、免税規定を削除してきた。一方、中国以外でも韓国やフィリピン、インドネシアなど、免税規定が残る条約もある。政府関係者は「個別の国との接触状況は答えられない」としながらも「関係省庁で連携し、積極的に既存の条約の改正に取り組みたい」と語った。\""
   ]
  },
  {
   "cell_type": "markdown",
   "id": "520cf5f7",
   "metadata": {},
   "source": [
    "## タイトル生成、類似度計算"
   ]
  },
  {
   "cell_type": "code",
   "execution_count": 4,
   "id": "caea9ad8",
   "metadata": {},
   "outputs": [
    {
     "name": "stdout",
     "output_type": "stream",
     "text": [
      "政府関係者が明らかにした。日中租税条約の改正を検討する。日本政府関係者が明らかにした。\n"
     ]
    }
   ],
   "source": [
    "cs = CalcSim(trained_model,tokenizer,args.max_input_length,args.max_target_length)\n",
    "result = cs.make_output(input,target)"
   ]
  },
  {
   "cell_type": "markdown",
   "id": "29c79ced",
   "metadata": {},
   "source": [
    "## 出力"
   ]
  },
  {
   "cell_type": "code",
   "execution_count": 5,
   "id": "fba93faa",
   "metadata": {},
   "outputs": [
    {
     "data": {
      "text/plain": [
       "0.4919361714500556"
      ]
     },
     "execution_count": 5,
     "metadata": {},
     "output_type": "execute_result"
    }
   ],
   "source": [
    "result"
   ]
  },
  {
   "cell_type": "code",
   "execution_count": 6,
   "id": "70e90207",
   "metadata": {},
   "outputs": [],
   "source": [
    "import pandas as pd"
   ]
  },
  {
   "cell_type": "code",
   "execution_count": 21,
   "id": "b31cff51",
   "metadata": {},
   "outputs": [],
   "source": [
    "yahoo = pd.read_csv(\"yahoo_137.csv\")\n",
    "yahoo_s = yahoo.sort_values('score')"
   ]
  },
  {
   "cell_type": "code",
   "execution_count": 22,
   "id": "07bd6b3b",
   "metadata": {},
   "outputs": [],
   "source": [
    "# scores = []\n",
    "# for i in range(len(yahoo)):\n",
    "#   print(f\"num : {i}\")\n",
    "#   try:\n",
    "#     output = yahoo.iloc[i][\"output\"]\n",
    "#     target = yahoo.iloc[i][\"target\"]\n",
    "#     score = cs.make_output(yahoo.iloc[i][\"input\"],yahoo.iloc[i][\"target\"])\n",
    "#     scores.append(score)\n",
    "#   except:\n",
    "#     scores.append(-100)\n"
   ]
  },
  {
   "cell_type": "code",
   "execution_count": 23,
   "id": "3855f629",
   "metadata": {},
   "outputs": [],
   "source": [
    "# yahoo_s.to_csv(\"yahoo_137_sorted.csv\")"
   ]
  },
  {
   "cell_type": "code",
   "execution_count": 27,
   "id": "83f94908",
   "metadata": {},
   "outputs": [
    {
     "data": {
      "text/plain": [
       "0.996175516165056"
      ]
     },
     "execution_count": 27,
     "metadata": {},
     "output_type": "execute_result"
    }
   ],
   "source": [
    "yahoo_s.iloc[137][\"score\"]"
   ]
  },
  {
   "cell_type": "code",
   "execution_count": 28,
   "id": "8f09b88d",
   "metadata": {},
   "outputs": [
    {
     "data": {
      "text/html": [
       "<div>\n",
       "<style scoped>\n",
       "    .dataframe tbody tr th:only-of-type {\n",
       "        vertical-align: middle;\n",
       "    }\n",
       "\n",
       "    .dataframe tbody tr th {\n",
       "        vertical-align: top;\n",
       "    }\n",
       "\n",
       "    .dataframe thead th {\n",
       "        text-align: right;\n",
       "    }\n",
       "</style>\n",
       "<table border=\"1\" class=\"dataframe\">\n",
       "  <thead>\n",
       "    <tr style=\"text-align: right;\">\n",
       "      <th></th>\n",
       "      <th>input</th>\n",
       "      <th>output</th>\n",
       "      <th>target</th>\n",
       "      <th>score</th>\n",
       "    </tr>\n",
       "  </thead>\n",
       "  <tbody>\n",
       "    <tr>\n",
       "      <th>81</th>\n",
       "      <td>NaN</td>\n",
       "      <td>ông kong : ông kong yuming</td>\n",
       "      <td>NaN</td>\n",
       "      <td>-100.000000</td>\n",
       "    </tr>\n",
       "    <tr>\n",
       "      <th>23</th>\n",
       "      <td>は、約3万人の勤務場所を原則として自宅とし、出社は出張にする方針。は去年、従業員の勤務を原則...</td>\n",
       "      <td>新たな勤務制度を導入する。従業員のモチベーションを高める。</td>\n",
       "      <td>「勤務場所は自宅」「飛行機での出社も可」が3万人を対象に来月から新たな勤務制度へ</td>\n",
       "      <td>0.327765</td>\n",
       "    </tr>\n",
       "    <tr>\n",
       "      <th>43</th>\n",
       "      <td>llipponewsetwork()19日午後4時すぎ、東京・日野市を流れる多摩川で12歳と...</td>\n",
       "      <td>llipponewsetwork() llipponewsetwork() llippone...</td>\n",
       "      <td>【速報】多摩川で12歳と14歳の少年が流され意識不明</td>\n",
       "      <td>0.366920</td>\n",
       "    </tr>\n",
       "    <tr>\n",
       "      <th>109</th>\n",
       "      <td>放送倫理・番組向上機構()放送人権委員会は22日までに、ペットサロンに預けられた犬がシャンプ...</td>\n",
       "      <td>放送倫理・番組向上機構()が22日、ペットサロンの経営者を訴えた。</td>\n",
       "      <td>日テレ「スッキリ」審理へ 人権委員会</td>\n",
       "      <td>0.387114</td>\n",
       "    </tr>\n",
       "    <tr>\n",
       "      <th>119</th>\n",
       "      <td>「広島3-3阪神」(23日、マツダスタジアム)広島が延長十回、サヨナラの好機を演出したが、代...</td>\n",
       "      <td>広島3-3阪神(23日、マツダスタジアム)</td>\n",
       "      <td>広島 球場騒然 あぁサヨナラ目前で代走・中村奨が大転倒 ホーム手前でタッチアウト</td>\n",
       "      <td>0.425986</td>\n",
       "    </tr>\n",
       "    <tr>\n",
       "      <th>...</th>\n",
       "      <td>...</td>\n",
       "      <td>...</td>\n",
       "      <td>...</td>\n",
       "      <td>...</td>\n",
       "    </tr>\n",
       "    <tr>\n",
       "      <th>36</th>\n",
       "      <td>テレビ大分大分県大分市の大分シティが運営する温浴施設「シティスパてんくう」でレジオネラ菌が検...</td>\n",
       "      <td>テレビ大分 大分シティ(大分シティ) &gt;シティスパてんくう &gt;レジオネラ菌について テレビ大...</td>\n",
       "      <td>シティスパてんくう レジオネラ菌検出 営業休止に 大分</td>\n",
       "      <td>0.971954</td>\n",
       "    </tr>\n",
       "    <tr>\n",
       "      <th>100</th>\n",
       "      <td>【カブール共同】アフガニスタン東部の地震で、死者が千人を超え、負傷者も1500人以上に上った...</td>\n",
       "      <td>アフガニスタンの地震で、死者が1000人以上に上った。</td>\n",
       "      <td>アフガン地震の死者、1000人超に</td>\n",
       "      <td>0.972968</td>\n",
       "    </tr>\n",
       "    <tr>\n",
       "      <th>72</th>\n",
       "      <td>韓国の国産宇宙ロケット「ヌリ号」(2)が21日16時、全羅南道・高興の羅老宇宙センターから打...</td>\n",
       "      <td>ヌリ号(2)の打ち上げに成功した。ヌリ号の打ち上げに成功した。</td>\n",
       "      <td>韓国国産宇宙ロケット「ヌリ号」、打ち上げに成功</td>\n",
       "      <td>0.982014</td>\n",
       "    </tr>\n",
       "    <tr>\n",
       "      <th>42</th>\n",
       "      <td>プライムオンライン19日午後3時8分ごろに石川・能登地方で発生した地震について、気象庁が午後...</td>\n",
       "      <td>気象庁 プライムオンライン 気象庁 鎌谷紀子氏「揺れが強かった地域では、最大震度6弱の地震に...</td>\n",
       "      <td>気象庁「1週間程度は最大6弱の地震に注意」 石川・能登地方で地震</td>\n",
       "      <td>0.990845</td>\n",
       "    </tr>\n",
       "    <tr>\n",
       "      <th>10</th>\n",
       "      <td>全国ワンマンツアー2022「文化再考」の開催も発表人気4人組バンド「ゲスの極み乙女。」が「ゲ...</td>\n",
       "      <td>ゲスの極み乙女。が「ゲスの極み乙女。」に改名することを報告した。</td>\n",
       "      <td>「ゲスの極み乙女。」が「ゲスの極み乙女」に突然の改名 ファン困惑「寂しい」「衝撃」</td>\n",
       "      <td>0.996176</td>\n",
       "    </tr>\n",
       "  </tbody>\n",
       "</table>\n",
       "<p>138 rows × 4 columns</p>\n",
       "</div>"
      ],
      "text/plain": [
       "                                                 input  \\\n",
       "81                                                 NaN   \n",
       "23   は、約3万人の勤務場所を原則として自宅とし、出社は出張にする方針。は去年、従業員の勤務を原則...   \n",
       "43   llipponewsetwork()19日午後4時すぎ、東京・日野市を流れる多摩川で12歳と...   \n",
       "109  放送倫理・番組向上機構()放送人権委員会は22日までに、ペットサロンに預けられた犬がシャンプ...   \n",
       "119  「広島3-3阪神」(23日、マツダスタジアム)広島が延長十回、サヨナラの好機を演出したが、代...   \n",
       "..                                                 ...   \n",
       "36   テレビ大分大分県大分市の大分シティが運営する温浴施設「シティスパてんくう」でレジオネラ菌が検...   \n",
       "100  【カブール共同】アフガニスタン東部の地震で、死者が千人を超え、負傷者も1500人以上に上った...   \n",
       "72   韓国の国産宇宙ロケット「ヌリ号」(2)が21日16時、全羅南道・高興の羅老宇宙センターから打...   \n",
       "42   プライムオンライン19日午後3時8分ごろに石川・能登地方で発生した地震について、気象庁が午後...   \n",
       "10   全国ワンマンツアー2022「文化再考」の開催も発表人気4人組バンド「ゲスの極み乙女。」が「ゲ...   \n",
       "\n",
       "                                                output  \\\n",
       "81                          ông kong : ông kong yuming   \n",
       "23                       新たな勤務制度を導入する。従業員のモチベーションを高める。   \n",
       "43   llipponewsetwork() llipponewsetwork() llippone...   \n",
       "109                  放送倫理・番組向上機構()が22日、ペットサロンの経営者を訴えた。   \n",
       "119                              広島3-3阪神(23日、マツダスタジアム)   \n",
       "..                                                 ...   \n",
       "36   テレビ大分 大分シティ(大分シティ) >シティスパてんくう >レジオネラ菌について テレビ大...   \n",
       "100                        アフガニスタンの地震で、死者が1000人以上に上った。   \n",
       "72                     ヌリ号(2)の打ち上げに成功した。ヌリ号の打ち上げに成功した。   \n",
       "42   気象庁 プライムオンライン 気象庁 鎌谷紀子氏「揺れが強かった地域では、最大震度6弱の地震に...   \n",
       "10                    ゲスの極み乙女。が「ゲスの極み乙女。」に改名することを報告した。   \n",
       "\n",
       "                                        target       score  \n",
       "81                                         NaN -100.000000  \n",
       "23    「勤務場所は自宅」「飛行機での出社も可」が3万人を対象に来月から新たな勤務制度へ    0.327765  \n",
       "43                  【速報】多摩川で12歳と14歳の少年が流され意識不明    0.366920  \n",
       "109                         日テレ「スッキリ」審理へ 人権委員会    0.387114  \n",
       "119   広島 球場騒然 あぁサヨナラ目前で代走・中村奨が大転倒 ホーム手前でタッチアウト    0.425986  \n",
       "..                                         ...         ...  \n",
       "36                 シティスパてんくう レジオネラ菌検出 営業休止に 大分    0.971954  \n",
       "100                          アフガン地震の死者、1000人超に    0.972968  \n",
       "72                     韓国国産宇宙ロケット「ヌリ号」、打ち上げに成功    0.982014  \n",
       "42            気象庁「1週間程度は最大6弱の地震に注意」 石川・能登地方で地震    0.990845  \n",
       "10   「ゲスの極み乙女。」が「ゲスの極み乙女」に突然の改名 ファン困惑「寂しい」「衝撃」    0.996176  \n",
       "\n",
       "[138 rows x 4 columns]"
      ]
     },
     "execution_count": 28,
     "metadata": {},
     "output_type": "execute_result"
    }
   ],
   "source": [
    "yahoo_s"
   ]
  },
  {
   "cell_type": "code",
   "execution_count": null,
   "id": "f8dd03c0",
   "metadata": {},
   "outputs": [],
   "source": []
  }
 ],
 "metadata": {
  "interpreter": {
   "hash": "a129114a67bdfb1fe23151bc17ef27e8a3af96403006e00a444a53a8dcf53f81"
  },
  "kernelspec": {
   "display_name": "Python 3 (ipykernel)",
   "language": "python",
   "name": "python3"
  },
  "language_info": {
   "codemirror_mode": {
    "name": "ipython",
    "version": 3
   },
   "file_extension": ".py",
   "mimetype": "text/x-python",
   "name": "python",
   "nbconvert_exporter": "python",
   "pygments_lexer": "ipython3",
   "version": "3.10.4"
  }
 },
 "nbformat": 4,
 "nbformat_minor": 5
}
