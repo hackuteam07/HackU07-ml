{
 "cells": [
  {
   "cell_type": "markdown",
   "id": "8f39ba4b",
   "metadata": {},
   "source": [
    "# T5 inference用コード\n",
    "\n",
    "- [学習コード](https://colab.research.google.com/drive/1zDHDNQiEmkuPox_iyzS3XN3mAoc5hU2u?usp=sharing)\n",
    "\n",
    "- setup.py\n",
    "  - モデルのパラメータやディレクトリパスの設定\n",
    "- calcSim.py\n",
    "  - generate_summary\n",
    "    - 記事の本文からタイトル(要約文)を生成\n",
    "  - calc_score\n",
    "    - rougeスコアの計算\n",
    "  - make_output\n",
    "    -  上記2関数をまとめたもの"
   ]
  },
  {
   "cell_type": "code",
   "execution_count": 2,
   "id": "26462dd9",
   "metadata": {},
   "outputs": [],
   "source": [
    "from setup import *\n",
    "from calcSim import *\n",
    "\n",
    "import torch\n",
    "from torch.utils.data import Dataset, DataLoader\n",
    "from transformers import T5ForConditionalGeneration, T5Tokenizer\n",
    "\n",
    "\n",
    "import warnings\n",
    "warnings.simplefilter('ignore')"
   ]
  },
  {
   "cell_type": "markdown",
   "id": "31c9c675",
   "metadata": {},
   "source": [
    "## modelの読み込み、tokenizerの読み込み,スコア計算用オブジェクトの作成"
   ]
  },
  {
   "cell_type": "code",
   "execution_count": 3,
   "id": "be4e5bf8",
   "metadata": {},
   "outputs": [],
   "source": [
    "tokenizer = T5Tokenizer.from_pretrained(MODEL_DIR, is_fast=True,model_max_length=args.max_input_length)\n",
    "trained_model = T5ForConditionalGeneration.from_pretrained(MODEL_DIR)"
   ]
  },
  {
   "cell_type": "markdown",
   "id": "a51472cb",
   "metadata": {},
   "source": [
    "## テスト記事\n",
    "- https://news.yahoo.co.jp/articles/fde639ad7b20d7d2777ab801f40f4a1ec6889bd4"
   ]
  },
  {
   "cell_type": "code",
   "execution_count": 4,
   "id": "74e04977",
   "metadata": {},
   "outputs": [],
   "source": [
    "target = \"兵庫・尼崎の紛失USBメモリー　大阪・吹田のマンション敷地で発見\"\n",
    "input = \"兵庫・尼崎市で全市民の個人情報が入ったUSBメモリーが紛失した問題で24日、尼崎市はUSBメモリーが発見されたと発表しました。委託業者・稲村和美市長の会見 尼崎市によりますと紛失したUSBメモリーには全市民46万人分の住民基本台帳の情報のほか、生活保護受給世帯や児童手当受給世帯の口座情報などが含まれていました。 21日、委託している業者がデータを移し替える作業のため、USBメモリーを持ち出していて、作業終了後、同僚らと大阪府内の飲食店で酒を飲み、その後、USBメモリーが入った鞄ごと紛失していました。 24日、尼崎市は委託業者から電話連絡があり、鞄とともに発見されたと発表しました。 メモリー内の個人情報については流出の形跡がないかなど調査を進めるということです。 また、尼崎市と委託業者がこのあと会見をするとしています。\""
   ]
  },
  {
   "cell_type": "markdown",
   "id": "520cf5f7",
   "metadata": {},
   "source": [
    "## タイトル生成、類似度計算"
   ]
  },
  {
   "cell_type": "code",
   "execution_count": 5,
   "id": "caea9ad8",
   "metadata": {},
   "outputs": [
    {
     "name": "stdout",
     "output_type": "stream",
     "text": [
      "尼崎市稲村和美市長の会見 兵庫県尼崎市の委託業者・稲村和美市長の会見\n"
     ]
    }
   ],
   "source": [
    "cs = CalcSim(trained_model,tokenizer,args.max_input_length,args.max_target_length)\n",
    "result = cs.make_output(input,target)"
   ]
  },
  {
   "cell_type": "markdown",
   "id": "29c79ced",
   "metadata": {},
   "source": [
    "## 出力"
   ]
  },
  {
   "cell_type": "code",
   "execution_count": 6,
   "id": "fba93faa",
   "metadata": {},
   "outputs": [
    {
     "data": {
      "text/plain": [
       "0.8072800270461773"
      ]
     },
     "execution_count": 6,
     "metadata": {},
     "output_type": "execute_result"
    }
   ],
   "source": [
    "result"
   ]
  },
  {
   "cell_type": "code",
   "execution_count": null,
   "id": "5f88fd8a",
   "metadata": {},
   "outputs": [],
   "source": []
  },
  {
   "cell_type": "code",
   "execution_count": null,
   "id": "3c175753",
   "metadata": {},
   "outputs": [],
   "source": []
  },
  {
   "cell_type": "code",
   "execution_count": null,
   "id": "6c957333",
   "metadata": {},
   "outputs": [],
   "source": []
  }
 ],
 "metadata": {
  "interpreter": {
   "hash": "a129114a67bdfb1fe23151bc17ef27e8a3af96403006e00a444a53a8dcf53f81"
  },
  "kernelspec": {
   "display_name": "Python 3 (ipykernel)",
   "language": "python",
   "name": "python3"
  },
  "language_info": {
   "codemirror_mode": {
    "name": "ipython",
    "version": 3
   },
   "file_extension": ".py",
   "mimetype": "text/x-python",
   "name": "python",
   "nbconvert_exporter": "python",
   "pygments_lexer": "ipython3",
   "version": "3.10.4"
  }
 },
 "nbformat": 4,
 "nbformat_minor": 5
}
